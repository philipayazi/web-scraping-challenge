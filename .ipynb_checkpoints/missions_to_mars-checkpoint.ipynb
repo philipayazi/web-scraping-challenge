{
 "cells": [
  {
   "cell_type": "code",
   "execution_count": 50,
   "metadata": {},
   "outputs": [],
   "source": [
    "from splinter import Browser\n",
    "from bs4 import BeautifulSoup as bs\n",
    "import pandas as pd"
   ]
  },
  {
   "cell_type": "code",
   "execution_count": 2,
   "metadata": {},
   "outputs": [],
   "source": [
    "url = \"https://mars.nasa.gov/news\"\n",
    "browser = Browser('chrome', headless=False)"
   ]
  },
  {
   "cell_type": "code",
   "execution_count": 16,
   "metadata": {},
   "outputs": [],
   "source": [
    "# Visit mars.nasa.gov\n",
    "browser.visit(url)"
   ]
  },
  {
   "cell_type": "code",
   "execution_count": 29,
   "metadata": {},
   "outputs": [
    {
     "name": "stdout",
     "output_type": "stream",
     "text": [
      "news_title =  Media Get a Close-Up of NASA's Mars 2020 Rover\n",
      "\n",
      "news_p = The clean room at NASA's Jet Propulsion Laboratory was open to the media to see NASA's next Mars explorer before it leaves for Florida in preparation for a summertime launch.\n",
      "\n",
      "news_title =  Space History Is Made in This NASA Robot Factory\n",
      "\n",
      "news_p = From rockets to rovers, JPL's Spacecraft Assembly Facility has been at the center of robotic spaceflight. Here's a closer look at what makes it so special.\n",
      "\n",
      "news_title =  NASA's Mars 2020 Rover Completes Its First Drive\n",
      "\n",
      "news_p = In a 10-plus-hour marathon, the rover steered, turned and drove in 3-foot (1-meter) increments over small ramps.\n",
      "\n",
      "news_title =  NASA's Treasure Map for Water Ice on Mars\n",
      "\n",
      "news_p = A new study identifies frozen water just below the Martian surface, where astronauts could easily dig it up.\n",
      "\n",
      "news_title =  Two Rovers to Roll on Mars Again: Curiosity and Mars 2020\n",
      "\n",
      "news_p = They look like twins. But under the hood, the rover currently exploring the Red Planet and the one launching there this summer have distinct science tools and roles to play.\n",
      "\n",
      "news_title =  NASA's Briefcase-Size MarCO Satellite Picks Up Honors\n",
      "\n",
      "news_p = The twin spacecraft, the first of their kind to fly into deep space, earn a Laureate from Aviation Week & Space Technology.\n",
      "\n",
      "news_title =  Global Storms on Mars Launch Dust Towers Into the Sky\n",
      "\n",
      "news_p = A Mars Dust Tower Stands Out Dust storms are common on Mars. But every decade or so, something unpredictable happens: a series of runaway storms break out, covering the entire planet in a dusty haze.\n",
      "\n",
      "news_title =  NASA Updates Mars 2020 Mission Environmental Review\n",
      "\n",
      "news_p = NASA and the Department of Energy have completed a more detailed risk analysis for the Mars 2020 rover launch from Florida.\n",
      "\n",
      "news_title =  Two of a Space Kind: Apollo 12 and Mars 2020\n",
      "\n",
      "news_p = Apollo 12 and the upcoming Mars 2020 mission may be separated by half a century, but they share several goals unique in the annals of space exploration.\n",
      "\n",
      "news_title =  Mars Scientists Investigate Ancient Life in Australia\n",
      "\n",
      "news_p = Teams with NASA's Mars 2020 and ESA's ExoMars practiced hunting for fossilized microbial life in the Australian Outback in preparation for their Red Planet missions. \n",
      "\n",
      "news_title =  NASA's Mars 2020 Will Hunt for Microscopic Fossils\n",
      "\n",
      "news_p = A new paper identifies a ring of minerals at the rover's landing site that are ideal for fossilizing microbial life.\n",
      "\n",
      "news_title =  With Mars Methane Mystery Unsolved, Curiosity Serves Scientists a New One: Oxygen\n",
      "\n",
      "news_p = For the first time in the history of space exploration, scientists have measured the seasonal changes in the gases that fill the air directly above the surface of Gale Crater on Mars. \n",
      "\n",
      "news_title =  NASA's Mars 2020 Heads Into the Test Chamber\n",
      "\n",
      "news_p = In this time-lapse video taken at JPL, engineers move the Mars 2020 rover into a large vacuum chamber for testing in Mars-like environmental conditions.\n",
      "\n",
      "news_title =  Screening Soon: 'The Pathfinders' Trains Lens on Mars\n",
      "\n",
      "news_p = With the Mars 2020 mission ramping up, the documentary — the first of four about past JPL missions to the Red Planet to be shown at Caltech — tells a gripping backstory.\n",
      "\n",
      "news_title =  InSight's 'Mole' Team Peers into the Pit\n",
      "\n",
      "news_p = Efforts to save the heat probe continue.\n",
      "\n",
      "news_title =  Common Questions about InSight's 'Mole'\n",
      "\n",
      "news_p = There's a new plan to get InSight's \"mole\" moving again. The following Q&As with two members of the team answer some of the most common questions about the burrowing device, part of a science instrument called the Heat Flow and Physical Properties Package (HP3).\n",
      "\n",
      "news_title =  Mars 2020 Stands on Its Own Six Wheels\n",
      "\n",
      "news_p = In time-lapse video, taken at JPL, captures the first time NASA's Mars 2020 rover carries its full weight on its legs and wheels.\n",
      "\n",
      "news_title =  New Selfie Shows Curiosity, the Mars Chemist\n",
      "\n",
      "news_p = The NASA rover performed a special chemistry experiment at the location captured in its newest self-portrait.\n",
      "\n",
      "news_title =  Naming a NASA Mars Rover Can Change Your Life\n",
      "\n",
      "news_p = Want to name the robotic scientist NASA is sending to Mars in 2020? The student who named Curiosity — the rover currently exploring Mars — will tell you this is an opportunity worth taking.\n",
      "\n",
      "news_title =  Mars 2020 Unwrapped and Ready for More Testing\n",
      "\n",
      "news_p = In time-lapse video, bunny-suited engineers remove the inner layer of protective foil on NASA's Mars 2020 rover after it was relocated for testing.\n",
      "\n",
      "news_title =  HiRISE Views NASA's InSight and Curiosity on Mars\n",
      "\n",
      "news_p = New images taken from space offer the clearest orbital glimpse yet of InSight as well as a view of Curiosity rolling along.\n",
      "\n",
      "news_title =  NASA's Curiosity Rover Finds an Ancient Oasis on Mars\n",
      "\n",
      "news_p = New evidence suggests salty, shallow ponds once dotted a Martian crater — a sign of the planet's drying climate.\n",
      "\n",
      "news_title =  NASA's Mars 2020 Rover Tests Descent-Stage Separation\n",
      "\n",
      "news_p = A crane lifts the rocket-powered descent stage away from NASA's Mars 2020 rover after technicians tested the pyrotechnic charges that separate the two spacecraft.\n",
      "\n",
      "news_title =  NASA's Push to Save the Mars InSight Lander's Heat Probe\n",
      "\n",
      "news_p = The scoop on the end of the spacecraft's robotic arm will be used to 'pin' the mole against the wall of its hole.\n",
      "\n",
      "news_title =  NASA's InSight 'Hears' Peculiar Sounds on Mars\n",
      "\n",
      "news_p = Listen to the marsquakes and other, less-expected sounds that the Mars lander has been detecting.\n",
      "\n",
      "news_title =  NASA Mars Mission Connects With Bosnian and Herzegovinian Town\n",
      "\n",
      "news_p = A letter from NASA was presented to the mayor of Jezero, Bosnia-Herzegovina, honoring the connection between the town and Jezero Crater, the Mars 2020 rover landing site.\n",
      "\n",
      "news_title =  Deadline Closing for Names to Fly on NASA's Next Mars Rover\n",
      "\n",
      "news_p = You have until Sept. 30 to send your names to Mars aboard the Mars 2020 rover. \n",
      "\n",
      "news_title =  NASA Wins Two Emmy Awards for Interactive Mission Coverage\n",
      "\n",
      "news_p = NASA-JPL's coverage of the Mars InSight landing earns one of the two wins, making this the NASA center's second Emmy.\n",
      "\n",
      "news_title =  NASA's Mars 2020 Comes Full Circle\n",
      "\n",
      "news_p = Aiming to pinpoint the Martian vehicle's center of gravity, engineers took NASA's 2,300-pound Mars 2020 rover for a spin in the clean room at JPL. \n",
      "\n",
      "news_title =  NASA Invites Students to Name Mars 2020 Rover\n",
      "\n",
      "news_p = Through Nov. 1, K-12 students in the U.S. are encouraged to enter an essay contest to name NASA's next Mars rover.\n",
      "\n",
      "news_title =  NASA's Mars Helicopter Attached to Mars 2020 Rover \n",
      "\n",
      "news_p = The helicopter will be first aircraft to perform flight tests on another planet.\n",
      "\n",
      "news_title =  What's Mars Solar Conjunction, and Why Does It Matter?\n",
      "\n",
      "news_p = NASA spacecraft at Mars are going to be on their own for a few weeks when the Sun comes between Mars and Earth, interrupting communications.\n",
      "\n",
      "news_title =  Scientists Explore Outback as Testbed for Mars \n",
      "\n",
      "news_p = Australia provides a great place for NASA's Mars 2020 and the ESA-Roscosmos ExoMars scientists to hone techniques in preparation for searching for signs ancient life on Mars.\n",
      "\n",
      "news_title =  NASA-JPL Names 'Rolling Stones Rock' on Mars\n",
      "\n",
      "news_p = NASA's Mars InSight mission honored one of the biggest bands of all time at Pasadena concert.\n",
      "\n",
      "news_title =  Robotic Toolkit Added to NASA's Mars 2020 Rover\n",
      "\n",
      "news_p = The bit carousel, which lies at the heart of the rover's Sample Caching System, is now aboard NASA's newest rover. \n",
      "\n",
      "news_title =  Space Samples Link NASA's Apollo 11 and Mars 2020\n",
      "\n",
      "news_p = While separated by half a century, NASA's Apollo 11 and Mars 2020 missions share the same historic goal: returning samples to Earth.\n",
      "\n",
      "news_title =  Small Satellite Mission of the Year\n",
      "\n",
      "news_p = The first interplanetary CubeSats were recognized by the engineering community with the 2019 Small Satellite Mission of the Year award.\n",
      "\n",
      "news_title =  NASA 'Optometrists' Verify Mars 2020 Rover's 20/20 Vision\n",
      "\n",
      "news_p = Mars 2020 rover underwent an eye exam after several cameras were installed on the rover.\n",
      "\n",
      "news_title =  New Finds for Mars Rover, Seven Years After Landing\n",
      "\n",
      "news_p = NASA's Curiosity rover is discovering odd rocks halfway into a region called the \"clay-bearing unit.\"\n",
      "\n",
      "news_title =  MEDLI2 Installation on Mars 2020 Aeroshell Begins\n",
      "\n",
      "news_p = Hardware installed onto NASA's Mars 2020 entry vehicle this week will help to increase the safety of future Mars landings.\n",
      "\n"
     ]
    },
    {
     "name": "stdout",
     "output_type": "stream",
     "text": [
      "\n"
     ]
    }
   ],
   "source": [
    "soup = bs(browser.html, 'html.parser')\n",
    "articles = soup.find_all('li', class_=\"slide\")\n",
    "\n",
    "for article in articles:\n",
    "    news_title = article.find('div', class_='content_title').find('a').text\n",
    "    news_p = article.find('div', class_='article_teaser_body').text\n",
    "    print('news_title = ', news_title)\n",
    "    print('')\n",
    "    print('news_p =', news_p)\n",
    "    print('')\n",
    "\n",
    "try:\n",
    "#         browser.links.find_by_partial_text('MORE').click()\n",
    "    browser.find_by_name('More').first.click()\n",
    "except:\n",
    "    print('')\n",
    "\n"
   ]
  },
  {
   "cell_type": "code",
   "execution_count": 62,
   "metadata": {},
   "outputs": [],
   "source": [
    "url_images = \"https://www.jpl.nasa.gov/spaceimages\"\n",
    "browser.visit(url_images)"
   ]
  },
  {
   "cell_type": "code",
   "execution_count": 64,
   "metadata": {},
   "outputs": [
    {
     "name": "stdout",
     "output_type": "stream",
     "text": [
      "featured_images_url = https://www.jpl.nasa.gov/spaceimages/images/wallpaper/PIA23616-640x350.jpg\n",
      "featured_images_url = https://www.jpl.nasa.gov/spaceimages/images/wallpaper/PIA23520-640x350.jpg\n",
      "featured_images_url = https://www.jpl.nasa.gov/spaceimages/images/wallpaper/PIA23519-640x350.jpg\n",
      "featured_images_url = https://www.jpl.nasa.gov/spaceimages/images/wallpaper/PIA23310-640x350.jpg\n",
      "featured_images_url = https://www.jpl.nasa.gov/spaceimages/images/wallpaper/PIA23244-640x350.jpg\n",
      "featured_images_url = https://www.jpl.nasa.gov/spaceimages/images/wallpaper/PIA23611-640x350.jpg\n",
      "featured_images_url = https://www.jpl.nasa.gov/spaceimages/images/wallpaper/PIA23600-640x350.jpg\n",
      "featured_images_url = https://www.jpl.nasa.gov/spaceimages/images/wallpaper/PIA23405-640x350.jpg\n",
      "featured_images_url = https://www.jpl.nasa.gov/spaceimages/images/wallpaper/PIA23599-640x350.jpg\n",
      "featured_images_url = https://www.jpl.nasa.gov/spaceimages/images/wallpaper/PIA23499-640x350.jpg\n",
      "featured_images_url = https://www.jpl.nasa.gov/spaceimages/images/wallpaper/PIA23598-640x350.jpg\n",
      "featured_images_url = https://www.jpl.nasa.gov/spaceimages/images/wallpaper/PIA23404-640x350.jpg\n",
      "featured_images_url = https://www.jpl.nasa.gov/spaceimages/images/wallpaper/PIA23518-640x350.jpg\n",
      "featured_images_url = https://www.jpl.nasa.gov/spaceimages/images/wallpaper/PIA23597-640x350.jpg\n",
      "featured_images_url = https://www.jpl.nasa.gov/spaceimages/images/wallpaper/PIA23498-640x350.jpg\n",
      "featured_images_url = https://www.jpl.nasa.gov/spaceimages/images/wallpaper/PIA23534-640x350.jpg\n",
      "featured_images_url = https://www.jpl.nasa.gov/spaceimages/images/wallpaper/PIA23596-640x350.jpg\n",
      "featured_images_url = https://www.jpl.nasa.gov/spaceimages/images/wallpaper/PIA23580-640x350.jpg\n",
      "featured_images_url = https://www.jpl.nasa.gov/spaceimages/images/wallpaper/PIA23560-640x350.jpg\n",
      "featured_images_url = https://www.jpl.nasa.gov/spaceimages/images/wallpaper/PIA23559-640x350.jpg\n",
      "featured_images_url = https://www.jpl.nasa.gov/spaceimages/images/wallpaper/PIA23558-640x350.jpg\n",
      "featured_images_url = https://www.jpl.nasa.gov/spaceimages/images/wallpaper/PIA23557-640x350.jpg\n",
      "featured_images_url = https://www.jpl.nasa.gov/spaceimages/images/wallpaper/PIA23556-640x350.jpg\n",
      "featured_images_url = https://www.jpl.nasa.gov/spaceimages/images/wallpaper/PIA23594-640x350.jpg\n",
      "featured_images_url = https://www.jpl.nasa.gov/spaceimages/images/wallpaper/PIA23608-640x350.jpg\n",
      "featured_images_url = https://www.jpl.nasa.gov/spaceimages/images/wallpaper/PIA23607-640x350.jpg\n",
      "featured_images_url = https://www.jpl.nasa.gov/spaceimages/images/wallpaper/PIA23606-640x350.jpg\n",
      "featured_images_url = https://www.jpl.nasa.gov/spaceimages/images/wallpaper/PIA23605-640x350.jpg\n",
      "featured_images_url = https://www.jpl.nasa.gov/spaceimages/images/wallpaper/PIA23604-640x350.jpg\n",
      "featured_images_url = https://www.jpl.nasa.gov/spaceimages/images/wallpaper/PIA23603-640x350.jpg\n",
      "featured_images_url = https://www.jpl.nasa.gov/spaceimages/images/wallpaper/PIA23602-640x350.jpg\n",
      "featured_images_url = https://www.jpl.nasa.gov/spaceimages/images/wallpaper/PIA23601-640x350.jpg\n",
      "\n",
      "\n",
      "\n",
      "\n",
      "\n"
     ]
    }
   ],
   "source": [
    "soup = bs(browser.html, 'html.parser')\n",
    "featured_images = soup.find_all('li', class_=\"slide\")\n",
    "\n",
    "for image in featured_images:\n",
    "    try:\n",
    "        featured_images_url = image.find('div', class_='img').find('img')['src']\n",
    "        print('featured_images_url = https://www.jpl.nasa.gov' + featured_images_url)\n",
    "    except:\n",
    "        print('')\n"
   ]
  },
  {
   "cell_type": "code",
   "execution_count": 36,
   "metadata": {},
   "outputs": [],
   "source": [
    "twitter_url = \"https://twitter.com/marswxreport\"\n",
    "browser.visit(twitter_url)"
   ]
  },
  {
   "cell_type": "code",
   "execution_count": 38,
   "metadata": {},
   "outputs": [
    {
     "name": "stdout",
     "output_type": "stream",
     "text": [
      "mars_weather = InSight sol 393 (2020-01-04) low -97.7ºC (-143.8ºF) high -17.6ºC (0.4ºF)\n",
      "winds from the SSW at 5.5 m/s (12.2 mph) gusting to 21.6 m/s (48.4 mph)\n",
      "pressure at 6.40 hPapic.twitter.com/ZiUF3fZhoN\n",
      "\n",
      "mars_weather = InSight sol 392 (2020-01-03) low -98.2ºC (-144.8ºF) high -17.7ºC (0.1ºF)\n",
      "winds from the SSE at 6.0 m/s (13.3 mph) gusting to 20.6 m/s (46.2 mph)\n",
      "pressure at 6.40 hPapic.twitter.com/qoU6uyLSrL\n",
      "\n",
      "mars_weather = InSight sol 391 (2020-01-01) low -99.0ºC (-146.1ºF) high -17.6ºC (0.3ºF)\n",
      "winds from the SE at 5.7 m/s (12.7 mph) gusting to 21.9 m/s (49.0 mph)\n",
      "pressure at 6.40 hPapic.twitter.com/bSrZXEn17r\n",
      "\n",
      "mars_weather = InSight sol 390 (2020-01-01) low -100.2ºC (-148.3ºF) high -17.8ºC (-0.1ºF)\n",
      "winds from the SSE at 6.5 m/s (14.4 mph) gusting to 27.8 m/s (62.1 mph)\n",
      "pressure at 6.40 hPapic.twitter.com/f36MEygigD\n",
      "\n",
      "mars_weather = InSight sol 389 (2019-12-30) low -99.2ºC (-146.5ºF) high -18.6ºC (-1.6ºF)\n",
      "winds from the SSE at 5.6 m/s (12.6 mph) gusting to 23.1 m/s (51.6 mph)\n",
      "pressure at 6.40 hPapic.twitter.com/H2cJ0OdrZB\n",
      "\n",
      "mars_weather = InSight sol 388 (2019-12-30) low -98.9ºC (-145.9ºF) high -17.3ºC (0.9ºF)\n",
      "winds from the SSE at 6.3 m/s (14.2 mph) gusting to 22.7 m/s (50.8 mph)\n",
      "pressure at 6.40 hPapic.twitter.com/wiD8OwzdUu\n",
      "\n",
      "mars_weather = InSight sol 387 (2019-12-28) low -98.6ºC (-145.5ºF) high -18.4ºC (-1.1ºF)\n",
      "winds from the SSE at 5.7 m/s (12.7 mph) gusting to 21.0 m/s (47.0 mph)\n",
      "pressure at 6.50 hPapic.twitter.com/zoptEmdeQ7\n",
      "\n",
      "mars_weather = InSight sol 386 (2019-12-28) low -97.3ºC (-143.2ºF) high -18.0ºC (-0.3ºF)\n",
      "pressure at 6.40 hPa\n",
      "\n",
      "mars_weather = InSight sol 385 (2019-12-27) low -96.4ºC (-141.4ºF) high -18.6ºC (-1.6ºF)\n",
      "winds from the SSE at 6.4 m/s (14.3 mph) gusting to 21.2 m/s (47.5 mph)\n",
      "pressure at 6.50 hPapic.twitter.com/O06hld1B8X\n",
      "\n",
      "mars_weather = InSight sol 384 (2019-12-25) low -96.5ºC (-141.8ºF) high -22.4ºC (-8.3ºF)\n",
      "winds from the SSE at 5.4 m/s (12.1 mph) gusting to 21.5 m/s (48.2 mph)\n",
      "pressure at 6.50 hPapic.twitter.com/hO6LZAiPgg\n",
      "\n",
      "mars_weather = The shadow of the moon crossing the Earth, from today's annular solar eclipse captured by the Himawari 8 Satellite #AnnularSolarEclipse #AnnularEclipsepic.twitter.com/Tsooqqv7OX\n",
      "\n",
      "mars_weather = InSight sol 383 (2019-12-25) low -98.1ºC (-144.6ºF) high -18.5ºC (-1.2ºF)\n",
      "winds from the SSE at 6.2 m/s (13.9 mph) gusting to 24.3 m/s (54.2 mph)\n",
      "pressure at 6.50 hPapic.twitter.com/LF8bj3SF22\n",
      "\n",
      "mars_weather = InSight sol 382 (2019-12-23) low -96.9ºC (-142.4ºF) high -16.4ºC (2.5ºF)\n",
      "winds from the SSE at 6.0 m/s (13.3 mph) gusting to 20.2 m/s (45.2 mph)\n",
      "pressure at 6.50 hPapic.twitter.com/GzeYA9KRr6\n",
      "\n",
      "mars_weather = InSight sol 381 (2019-12-22) low -98.0ºC (-144.4ºF) high -19.5ºC (-3.1ºF)\n",
      "winds from the SSE at 6.0 m/s (13.5 mph) gusting to 21.7 m/s (48.6 mph)\n",
      "pressure at 6.50 hPa\n",
      "\n",
      "mars_weather = Facts about the North Pole.  Happy Holidays, everyone.pic.twitter.com/aq6LXpOaig\n",
      "\n",
      "mars_weather = It's just lovely of @nytimes to include @MarsRovers Opportunity in their year-end \"The Lives They Lived.\" Thanks for thinking of our beloved girl, y'all. That was classy.https://www.nytimes.com/interactive/2019/12/23/magazine/opportunity-rover.html …\n",
      "\n",
      "mars_weather = InSight sol 380 (2019-12-21) low -97.9ºC (-144.3ºF) high -20.6ºC (-5.0ºF)\n",
      "winds from the SSE at 6.3 m/s (14.1 mph) gusting to 21.5 m/s (48.2 mph)\n",
      "pressure at 6.50 hPa\n",
      "\n",
      "mars_weather = InSight sol 379 (2019-12-20) low -96.3ºC (-141.4ºF) high -20.0ºC (-3.9ºF)\n",
      "winds from the SSE at 5.3 m/s (11.8 mph) gusting to 20.7 m/s (46.2 mph)\n",
      "pressure at 6.50 hPapic.twitter.com/O9t6gBDfHW\n",
      "\n",
      "mars_weather = A 4K sweep across the foothills of Mt. Sharp, #Mars, using @MarsCuriosity MastCam imagery.\n",
      "\n",
      "On YouTube @ 4k60fps: https://youtu.be/LHLORu8vBmo \n",
      "\n",
      "Full Image: https://flic.kr/p/2i3w9PP pic.twitter.com/lnYE8BO7Nl\n",
      "\n",
      "mars_weather = InSight sol 378 (2019-12-19) low -97.7ºC (-143.8ºF) high -20.0ºC (-3.9ºF)\n",
      "winds from the SSE at 5.7 m/s (12.8 mph) gusting to 23.8 m/s (53.2 mph)\n",
      "pressure at 6.50 hPapic.twitter.com/YEbV8kpo6F\n",
      "\n"
     ]
    }
   ],
   "source": [
    "soup = bs(browser.html, 'html.parser')\n",
    "all_mars_weather = soup.find_all('li', class_=\"js-stream-item\")\n",
    "\n",
    "for weather in all_mars_weather:\n",
    "    mars_weather = weather.find('p', class_='TweetTextSize').text\n",
    "    print('mars_weather = ' + mars_weather)\n",
    "    print('')\n",
    "\n",
    "try:\n",
    "#     browser.click_link_by_partial_text('more')\n",
    "    browser.links.find_by_partial_text('more')\n",
    "except:\n",
    "    print('Scraping Complete')\n"
   ]
  },
  {
   "cell_type": "code",
   "execution_count": 40,
   "metadata": {},
   "outputs": [],
   "source": [
    "mars_facts_url = \"https://space-facts.com/mars/\"\n",
    "browser.visit(mars_facts_url)"
   ]
  },
  {
   "cell_type": "code",
   "execution_count": 48,
   "metadata": {},
   "outputs": [
    {
     "ename": "AttributeError",
     "evalue": "'NoneType' object has no attribute 'text'",
     "output_type": "error",
     "traceback": [
      "\u001b[1;31m---------------------------------------------------------------------------\u001b[0m",
      "\u001b[1;31mAttributeError\u001b[0m                            Traceback (most recent call last)",
      "\u001b[1;32m<ipython-input-48-95c132b3c985>\u001b[0m in \u001b[0;36m<module>\u001b[1;34m\u001b[0m\n\u001b[0;32m      6\u001b[0m \u001b[1;33m\u001b[0m\u001b[0m\n\u001b[0;32m      7\u001b[0m \u001b[1;32mfor\u001b[0m \u001b[0mfacts\u001b[0m \u001b[1;32min\u001b[0m \u001b[0mmars_facts\u001b[0m\u001b[1;33m:\u001b[0m\u001b[1;33m\u001b[0m\u001b[1;33m\u001b[0m\u001b[0m\n\u001b[1;32m----> 8\u001b[1;33m     \u001b[0mmars_facts_odd\u001b[0m \u001b[1;33m=\u001b[0m \u001b[0mfacts\u001b[0m\u001b[1;33m.\u001b[0m\u001b[0mfind\u001b[0m\u001b[1;33m(\u001b[0m\u001b[1;34m'td'\u001b[0m\u001b[1;33m,\u001b[0m \u001b[0mclass_\u001b[0m\u001b[1;33m=\u001b[0m\u001b[1;34m'column-1'\u001b[0m\u001b[1;33m)\u001b[0m\u001b[1;33m.\u001b[0m\u001b[0mtext\u001b[0m\u001b[1;33m\u001b[0m\u001b[1;33m\u001b[0m\u001b[0m\n\u001b[0m\u001b[0;32m      9\u001b[0m     \u001b[0mdescription\u001b[0m\u001b[1;33m.\u001b[0m\u001b[0mappend\u001b[0m\u001b[1;33m(\u001b[0m\u001b[0mmars_facts_odd\u001b[0m\u001b[1;33m)\u001b[0m\u001b[1;33m\u001b[0m\u001b[1;33m\u001b[0m\u001b[0m\n\u001b[0;32m     10\u001b[0m     \u001b[0mmars_facts_even\u001b[0m \u001b[1;33m=\u001b[0m \u001b[0mfacts\u001b[0m\u001b[1;33m.\u001b[0m\u001b[0mfind\u001b[0m\u001b[1;33m(\u001b[0m\u001b[1;34m'td'\u001b[0m\u001b[1;33m,\u001b[0m \u001b[0mclass_\u001b[0m\u001b[1;33m=\u001b[0m\u001b[1;34m'column-2'\u001b[0m\u001b[1;33m)\u001b[0m\u001b[1;33m.\u001b[0m\u001b[0mtext\u001b[0m\u001b[1;33m\u001b[0m\u001b[1;33m\u001b[0m\u001b[0m\n",
      "\u001b[1;31mAttributeError\u001b[0m: 'NoneType' object has no attribute 'text'"
     ]
    }
   ],
   "source": [
    "soup = bs(browser.html, 'html.parser')\n",
    "mars_facts = soup.find_all('tr')\n",
    "\n",
    "description = []\n",
    "value = []\n",
    "\n",
    "for facts in mars_facts:\n",
    "    mars_facts_odd = facts.find('td', class_='column-1').text\n",
    "    description.append(mars_facts_odd)\n",
    "    mars_facts_even = facts.find('td', class_='column-2').text\n",
    "    value.append(mars_facts_even)\n",
    "#     print(mars_facts_odd, mars_facts_even)\n",
    "#     print(mars_facts_even)"
   ]
  },
  {
   "cell_type": "code",
   "execution_count": 52,
   "metadata": {},
   "outputs": [],
   "source": [
    "Mars_Facts = pd.DataFrame(\n",
    "    {'description':description,\n",
    "     'value':value\n",
    "    })"
   ]
  },
  {
   "cell_type": "code",
   "execution_count": 53,
   "metadata": {},
   "outputs": [
    {
     "data": {
      "text/html": [
       "<div>\n",
       "<style scoped>\n",
       "    .dataframe tbody tr th:only-of-type {\n",
       "        vertical-align: middle;\n",
       "    }\n",
       "\n",
       "    .dataframe tbody tr th {\n",
       "        vertical-align: top;\n",
       "    }\n",
       "\n",
       "    .dataframe thead th {\n",
       "        text-align: right;\n",
       "    }\n",
       "</style>\n",
       "<table border=\"1\" class=\"dataframe\">\n",
       "  <thead>\n",
       "    <tr style=\"text-align: right;\">\n",
       "      <th></th>\n",
       "      <th>description</th>\n",
       "      <th>value</th>\n",
       "    </tr>\n",
       "  </thead>\n",
       "  <tbody>\n",
       "    <tr>\n",
       "      <td>0</td>\n",
       "      <td>Equatorial Diameter:</td>\n",
       "      <td>6,792 km</td>\n",
       "    </tr>\n",
       "    <tr>\n",
       "      <td>1</td>\n",
       "      <td>Polar Diameter:</td>\n",
       "      <td>6,752 km</td>\n",
       "    </tr>\n",
       "    <tr>\n",
       "      <td>2</td>\n",
       "      <td>Mass:</td>\n",
       "      <td>6.39 × 10^23 kg (0.11 Earths)</td>\n",
       "    </tr>\n",
       "    <tr>\n",
       "      <td>3</td>\n",
       "      <td>Moons:</td>\n",
       "      <td>2 (Phobos &amp; Deimos)</td>\n",
       "    </tr>\n",
       "    <tr>\n",
       "      <td>4</td>\n",
       "      <td>Orbit Distance:</td>\n",
       "      <td>227,943,824 km (1.38 AU)</td>\n",
       "    </tr>\n",
       "    <tr>\n",
       "      <td>5</td>\n",
       "      <td>Orbit Period:</td>\n",
       "      <td>687 days (1.9 years)</td>\n",
       "    </tr>\n",
       "    <tr>\n",
       "      <td>6</td>\n",
       "      <td>Surface Temperature:</td>\n",
       "      <td>-87 to -5 °C</td>\n",
       "    </tr>\n",
       "    <tr>\n",
       "      <td>7</td>\n",
       "      <td>First Record:</td>\n",
       "      <td>2nd millennium BC</td>\n",
       "    </tr>\n",
       "    <tr>\n",
       "      <td>8</td>\n",
       "      <td>Recorded By:</td>\n",
       "      <td>Egyptian astronomers</td>\n",
       "    </tr>\n",
       "  </tbody>\n",
       "</table>\n",
       "</div>"
      ],
      "text/plain": [
       "             description                          value\n",
       "0   Equatorial Diameter:                       6,792 km\n",
       "1        Polar Diameter:                       6,752 km\n",
       "2                  Mass:  6.39 × 10^23 kg (0.11 Earths)\n",
       "3                 Moons:            2 (Phobos & Deimos)\n",
       "4        Orbit Distance:       227,943,824 km (1.38 AU)\n",
       "5          Orbit Period:           687 days (1.9 years)\n",
       "6  Surface Temperature:                    -87 to -5 °C\n",
       "7          First Record:              2nd millennium BC\n",
       "8           Recorded By:           Egyptian astronomers"
      ]
     },
     "execution_count": 53,
     "metadata": {},
     "output_type": "execute_result"
    }
   ],
   "source": [
    "Mars_Facts"
   ]
  },
  {
   "cell_type": "code",
   "execution_count": 86,
   "metadata": {},
   "outputs": [],
   "source": [
    "mars_hemisphere_url = \"https://astrogeology.usgs.gov/search/results?q=hemisphere+enhanced&k1=target&v1=Mars\"\n",
    "browser.visit(mars_hemisphere_url)"
   ]
  },
  {
   "cell_type": "code",
   "execution_count": 88,
   "metadata": {},
   "outputs": [],
   "source": [
    "soup = bs(browser.html, 'html.parser')\n",
    "# soup.find_all('div', class_='item')\n",
    "# link_title = []\n",
    "\n",
    "# for link in links:\n",
    "#     titles = link.find('div', class_='description').find('a').find('h3').text\n",
    "#     link_title.append(titles)\n",
    "#     titles = link.find('div', class_='description').find('a')['href']\n",
    "#     link_title.append('https://astrogeology.usgs.gov/search/results?q=hemisphere+enhanced&k1=target&v1=Mars'+ titles)"
   ]
  },
  {
   "cell_type": "code",
   "execution_count": 67,
   "metadata": {},
   "outputs": [],
   "source": [
    "# link_title"
   ]
  },
  {
   "cell_type": "code",
   "execution_count": 89,
   "metadata": {},
   "outputs": [],
   "source": [
    "# for title in link_title:\n",
    "browser.click_link_by_partial_text('Cerberus')\n",
    "\n",
    "# browser.link.find_by_partial_text('Enhanced')[1].click()\n"
   ]
  },
  {
   "cell_type": "code",
   "execution_count": 150,
   "metadata": {
    "scrolled": true
   },
   "outputs": [
    {
     "ename": "AttributeError",
     "evalue": "'NoneType' object has no attribute 'find'",
     "output_type": "error",
     "traceback": [
      "\u001b[1;31m---------------------------------------------------------------------------\u001b[0m",
      "\u001b[1;31mAttributeError\u001b[0m                            Traceback (most recent call last)",
      "\u001b[1;32m<ipython-input-150-77521d7b00c1>\u001b[0m in \u001b[0;36m<module>\u001b[1;34m\u001b[0m\n\u001b[1;32m----> 1\u001b[1;33m \u001b[0mimage_url\u001b[0m \u001b[1;33m=\u001b[0m \u001b[0msoup\u001b[0m\u001b[1;33m.\u001b[0m\u001b[0mfind\u001b[0m\u001b[1;33m(\u001b[0m\u001b[1;34m'div'\u001b[0m\u001b[1;33m,\u001b[0m \u001b[0mclass_\u001b[0m\u001b[1;33m=\u001b[0m\u001b[1;34m'container'\u001b[0m\u001b[1;33m)\u001b[0m\u001b[1;33m.\u001b[0m\u001b[0mfind\u001b[0m\u001b[1;33m(\u001b[0m\u001b[1;34m'section'\u001b[0m\u001b[1;33m,\u001b[0m \u001b[0mclass_\u001b[0m\u001b[1;33m=\u001b[0m\u001b[1;34m'block'\u001b[0m\u001b[1;33m)\u001b[0m\u001b[1;33m.\u001b[0m\u001b[0mfind\u001b[0m\u001b[1;33m(\u001b[0m\u001b[1;34m'ul'\u001b[0m\u001b[1;33m)\u001b[0m\u001b[1;33m.\u001b[0m\u001b[0mfind\u001b[0m\u001b[1;33m(\u001b[0m\u001b[1;34m'li'\u001b[0m\u001b[1;33m)\u001b[0m\u001b[1;33m\u001b[0m\u001b[1;33m\u001b[0m\u001b[0m\n\u001b[0m\u001b[0;32m      2\u001b[0m \u001b[0mprint\u001b[0m\u001b[1;33m(\u001b[0m\u001b[0mimage_url\u001b[0m\u001b[1;33m)\u001b[0m\u001b[1;33m\u001b[0m\u001b[1;33m\u001b[0m\u001b[0m\n",
      "\u001b[1;31mAttributeError\u001b[0m: 'NoneType' object has no attribute 'find'"
     ]
    }
   ],
   "source": [
    "image_url = soup.find('div', class_='container').find('section', class_='block').find('ul').find('li')\n",
    "print(image_url)"
   ]
  },
  {
   "cell_type": "code",
   "execution_count": 144,
   "metadata": {},
   "outputs": [],
   "source": [
    "soup.find('div', class_='container').find('div', id='wide-image')\n"
   ]
  },
  {
   "cell_type": "code",
   "execution_count": 155,
   "metadata": {},
   "outputs": [
    {
     "name": "stdout",
     "output_type": "stream",
     "text": [
      "None\n"
     ]
    }
   ],
   "source": [
    "image_url = soup.find('div', class_='container').find('div', class_='content')#.find('section', class_='block').find('dl')\n",
    "print(image_url)"
   ]
  },
  {
   "cell_type": "code",
   "execution_count": 159,
   "metadata": {},
   "outputs": [
    {
     "name": "stdout",
     "output_type": "stream",
     "text": [
      "None\n"
     ]
    }
   ],
   "source": [
    "image_url = soup.find('div', class_='container').find('div', id='wide-image')#.find('div', class_=downloads).find('ul').find('li').find('a')['href']\n",
    "print(image_url)"
   ]
  },
  {
   "cell_type": "code",
   "execution_count": null,
   "metadata": {},
   "outputs": [],
   "source": []
  },
  {
   "cell_type": "code",
   "execution_count": null,
   "metadata": {},
   "outputs": [],
   "source": []
  }
 ],
 "metadata": {
  "kernelspec": {
   "display_name": "Python [conda env:PandasLearn] *",
   "language": "python",
   "name": "conda-env-PandasLearn-py"
  },
  "language_info": {
   "codemirror_mode": {
    "name": "ipython",
    "version": 3
   },
   "file_extension": ".py",
   "mimetype": "text/x-python",
   "name": "python",
   "nbconvert_exporter": "python",
   "pygments_lexer": "ipython3",
   "version": "3.7.4"
  }
 },
 "nbformat": 4,
 "nbformat_minor": 2
}
